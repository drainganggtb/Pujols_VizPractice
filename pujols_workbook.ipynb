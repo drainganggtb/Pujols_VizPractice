{
 "cells": [
  {
   "cell_type": "code",
   "execution_count": 1,
   "metadata": {},
   "outputs": [
    {
     "data": {
      "text/plain": [
       "<bound method NDFrame.head of     2001  21  STL  NL  161  676  590  112  194  47  ...  1.013  157  360  \\\n",
       "0   2002  22  STL  NL  157  675  590  118  185  40  ...  0.955  151  331   \n",
       "1   2003  23  STL  NL  157  685  591  137  212  51  ...  1.106  187  394   \n",
       "2   2004  24  STL  NL  154  692  592  133  196  51  ...  1.072  173  389   \n",
       "3   2005  25  STL  NL  161  700  591  129  195  38  ...  1.039  168  360   \n",
       "4   2006  26  STL  NL  143  634  535  119  177  33  ...  1.102  178  359   \n",
       "5   2007  27  STL  NL  158  679  565   99  185  38  ...  0.997  157  321   \n",
       "6   2008  28  STL  NL  148  641  524  100  187  44  ...  1.114  192  342   \n",
       "7   2009  29  STL  NL  160  700  568  124  186  45  ...  1.101  189  374   \n",
       "8   2010  30  STL  NL  159  700  587  115  183  39  ...  1.011  173  350   \n",
       "9   2011  31  STL  NL  147  651  579  105  173  29  ...  0.906  148  313   \n",
       "10  2012  32  LAA  AL  154  670  607   85  173  50  ...  0.859  138  313   \n",
       "11  2013  33  LAA  AL   99  443  391   49  101  19  ...  0.767  116  171   \n",
       "12  2014  34  LAA  AL  159  695  633   89  172  37  ...  0.790  126  295   \n",
       "13  2015  35  LAA  AL  157  661  602   85  147  22  ...  0.787  118  289   \n",
       "14  2016  36  LAA  AL  152  650  593   71  159  19  ...  0.780  113  271   \n",
       "15  2017  37  LAA  AL  149  636  593   53  143  17  ...  0.672   80  229   \n",
       "16  2018  38  LAA  AL  117  498  465   50  114  20  ...  0.700   91  191   \n",
       "17  2019  39  LAA  AL  131  545  491   55  120  22  ...  0.734   90  211   \n",
       "18  2020  40  LAA  AL   39  163  152   15   34   8  ...  0.665   77   60   \n",
       "19  2021  41  LAA  AL   24   92   86    9   17   0  ...  0.622   72   32   \n",
       "\n",
       "    21.1   9  1.1  7   6    5379/DH  AS,MVP-4,RoY-1,SS  \n",
       "0     20   9    0  4  13  *753/DH96              MVP-2  \n",
       "1     13  10    0  5  12     *73/HD        AS,MVP-2,SS  \n",
       "2     21   7    0  9  12      *3/DH        AS,MVP-3,SS  \n",
       "3     19   9    0  3  27       *3/H           AS,MVP-1  \n",
       "4     20   4    0  3  28       *3/H        AS,MVP-2,GG  \n",
       "5     27   7    0  8  22       *3/H           AS,MVP-9  \n",
       "6     16   5    0  8  34     *3/HD4        AS,MVP-1,SS  \n",
       "7     23   9    0  8  44      *3/HD        AS,MVP-1,SS  \n",
       "8     23   4    0  6  38       *3/H     AS,MVP-2,GG,SS  \n",
       "9     29   4    0  7  15      *3/5H              MVP-5  \n",
       "10    19   5    0  6  16      *3D/5             MVP-17  \n",
       "11    18   5    0  7   8         D3                NaN  \n",
       "12    28   5    0  9  11      *3D/5             MVP-17  \n",
       "13    15   6    0  3  10       3D/5                 AS  \n",
       "14    24   2    0  6   6      *D3/H                NaN  \n",
       "15    26   2    0  4   5      *D/3H                NaN  \n",
       "16    12   2    0  3   3         3D                NaN  \n",
       "17    21   3    0  8   1      3D/H5                NaN  \n",
       "18     4   1    0  1   1       3D/H                NaN  \n",
       "19     4   3    0  0   1      3/DH5                NaN  \n",
       "\n",
       "[20 rows x 30 columns]>"
      ]
     },
     "execution_count": 1,
     "metadata": {},
     "output_type": "execute_result"
    }
   ],
   "source": [
    "import pandas as pd \n",
    "# load file from Baseball Reference (https://www.baseball-reference.com/players/p/pujolal01.shtml)\n",
    "file = \"resources/pujols_stats_csv.csv\"\n",
    "\n",
    "#read stat data into pandas df\n",
    "pujols_df = pd.read_csv(file, header=1)\n",
    "pujols_df.head"
   ]
  },
  {
   "cell_type": "code",
   "execution_count": 3,
   "metadata": {},
   "outputs": [
    {
     "name": "stdout",
     "output_type": "stream",
     "text": [
      "['2001', '21', 'STL', 'NL', '161', '676', '590', '112', '194', '47', '4', '37', '130', '1', '3', '69', '93', '0.329', '0.403', '0.61', '1.013', '157', '360', '21.1', '9', '1.1', '7', '6', '5379/DH', 'AS,MVP-4,RoY-1,SS']\n"
     ]
    }
   ],
   "source": [
    "#get column names to assure header is right\n",
    "stat_list = pujols_df.columns.values.tolist()\n",
    "print(stat_list)"
   ]
  },
  {
   "cell_type": "code",
   "execution_count": null,
   "metadata": {},
   "outputs": [],
   "source": []
  }
 ],
 "metadata": {
  "kernelspec": {
   "display_name": "Python [conda env:Python1] *",
   "language": "python",
   "name": "conda-env-Python1-py"
  },
  "language_info": {
   "codemirror_mode": {
    "name": "ipython",
    "version": 3
   },
   "file_extension": ".py",
   "mimetype": "text/x-python",
   "name": "python",
   "nbconvert_exporter": "python",
   "pygments_lexer": "ipython3",
   "version": "3.6.12"
  }
 },
 "nbformat": 4,
 "nbformat_minor": 4
}
